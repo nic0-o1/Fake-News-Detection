{
 "cells": [
  {
   "cell_type": "markdown",
   "metadata": {},
   "source": [
    "## LSTM Models Training"
   ]
  },
  {
   "cell_type": "code",
   "execution_count": 1,
   "metadata": {},
   "outputs": [],
   "source": [
    "import pandas as pd\n",
    "\n",
    "from config import *"
   ]
  },
  {
   "cell_type": "code",
   "execution_count": 2,
   "metadata": {},
   "outputs": [
    {
     "data": {
      "text/html": [
       "<div>\n",
       "<style scoped>\n",
       "    .dataframe tbody tr th:only-of-type {\n",
       "        vertical-align: middle;\n",
       "    }\n",
       "\n",
       "    .dataframe tbody tr th {\n",
       "        vertical-align: top;\n",
       "    }\n",
       "\n",
       "    .dataframe thead th {\n",
       "        text-align: right;\n",
       "    }\n",
       "</style>\n",
       "<table border=\"1\" class=\"dataframe\">\n",
       "  <thead>\n",
       "    <tr style=\"text-align: right;\">\n",
       "      <th></th>\n",
       "      <th>id</th>\n",
       "      <th>title</th>\n",
       "      <th>text</th>\n",
       "      <th>label</th>\n",
       "      <th>full_text</th>\n",
       "      <th>full_text_processed</th>\n",
       "    </tr>\n",
       "  </thead>\n",
       "  <tbody>\n",
       "    <tr>\n",
       "      <th>0</th>\n",
       "      <td>0</td>\n",
       "      <td>LAW ENFORCEMENT ON HIGH ALERT Following Threat...</td>\n",
       "      <td>No comment is expected from Barack Obama Membe...</td>\n",
       "      <td>1.0</td>\n",
       "      <td>LAW ENFORCEMENT ON HIGH ALERT Following Threat...</td>\n",
       "      <td>law enforcement high alert follow threat cop w...</td>\n",
       "    </tr>\n",
       "    <tr>\n",
       "      <th>1</th>\n",
       "      <td>2</td>\n",
       "      <td>UNBELIEVABLE! OBAMA’S ATTORNEY GENERAL SAYS MO...</td>\n",
       "      <td>Now, most of the demonstrators gathered last ...</td>\n",
       "      <td>1.0</td>\n",
       "      <td>UNBELIEVABLE! OBAMA’S ATTORNEY GENERAL SAYS MO...</td>\n",
       "      <td>unbelievable obamas attorney general say charl...</td>\n",
       "    </tr>\n",
       "  </tbody>\n",
       "</table>\n",
       "</div>"
      ],
      "text/plain": [
       "   id                                              title  \\\n",
       "0   0  LAW ENFORCEMENT ON HIGH ALERT Following Threat...   \n",
       "1   2  UNBELIEVABLE! OBAMA’S ATTORNEY GENERAL SAYS MO...   \n",
       "\n",
       "                                                text  label  \\\n",
       "0  No comment is expected from Barack Obama Membe...    1.0   \n",
       "1   Now, most of the demonstrators gathered last ...    1.0   \n",
       "\n",
       "                                           full_text  \\\n",
       "0  LAW ENFORCEMENT ON HIGH ALERT Following Threat...   \n",
       "1  UNBELIEVABLE! OBAMA’S ATTORNEY GENERAL SAYS MO...   \n",
       "\n",
       "                                 full_text_processed  \n",
       "0  law enforcement high alert follow threat cop w...  \n",
       "1  unbelievable obamas attorney general say charl...  "
      ]
     },
     "execution_count": 2,
     "metadata": {},
     "output_type": "execute_result"
    }
   ],
   "source": [
    "df = pd.read_csv('WELFake_Dataset_processed.tsv', sep='\\t')\n",
    "df.head(2)"
   ]
  },
  {
   "cell_type": "code",
   "execution_count": 3,
   "metadata": {},
   "outputs": [],
   "source": [
    "from sklearn.model_selection import train_test_split\n",
    "\n",
    "train_texts, temp_text, train_labels, temp_labels = train_test_split(\n",
    "  df['full_text_processed'],\n",
    "  df['label'],\n",
    "  random_state=2018,\n",
    "  test_size=0.4,\n",
    "  stratify=df['label']\n",
    ")\n",
    "val_texts, test_texts, val_labels, test_labels = train_test_split(\n",
    "  temp_text,\n",
    "  temp_labels,\n",
    "  random_state=2018,\n",
    "  test_size=0.5,\n",
    "  stratify=temp_labels\n",
    ")"
   ]
  },
  {
   "cell_type": "markdown",
   "metadata": {},
   "source": [
    "### Gensim Word2Vec initialization"
   ]
  },
  {
   "cell_type": "code",
   "execution_count": 4,
   "metadata": {},
   "outputs": [],
   "source": [
    "import gensim\n",
    "from Training.utils import make_words, train_evaluate_and_test_models\n",
    "\n",
    "mod = gensim.models.Word2Vec(sentences=make_words(df['full_text_processed']), vector_size=EMBEDDING_DIM, window=5, min_count=1, workers=5)"
   ]
  },
  {
   "cell_type": "code",
   "execution_count": 5,
   "metadata": {},
   "outputs": [
    {
     "data": {
      "image/png": "[encoded data removed]",
      "text/plain": [
       "<Figure size 640x480 with 1 Axes>"
      ]
     },
     "metadata": {},
     "output_type": "display_data"
    },
    {
     "name": "stdout",
     "output_type": "stream",
     "text": [
      "Mean Length: 309.46\n",
      "Median Length: 239.00\n",
      "90th Percentile: 623.00\n",
      "Maximum Length: 3081.00\n"
     ]
    }
   ],
   "source": [
    "text_lengths = train_texts.apply(lambda x: len(str(x).split()))\n",
    "\n",
    "import matplotlib.pyplot as plt\n",
    "import numpy as np\n",
    "\n",
    "plt.hist(text_lengths, bins=50, color='blue', alpha=0.7)\n",
    "plt.xlabel(\"Text Length\")\n",
    "plt.ylabel(\"Frequency\")\n",
    "plt.title(\"Distribution of Text Lengths\")\n",
    "plt.show()\n",
    "\n",
    "print(f\"Mean Length: {np.mean(text_lengths):.2f}\")\n",
    "print(f\"Median Length: {np.median(text_lengths):.2f}\")\n",
    "print(f\"90th Percentile: {np.percentile(text_lengths, 90):.2f}\")\n",
    "print(f\"Maximum Length: {np.max(text_lengths):.2f}\")"
   ]
  },
  {
   "cell_type": "code",
   "execution_count": 6,
   "metadata": {},
   "outputs": [],
   "source": [
    "from NewsDatasetLSTM import NewsDatasetLSTM\n",
    "from torch.utils.data import DataLoader\n",
    "\n",
    "max_len = 623 \n",
    "# Instantiate datasets\n",
    "train_dataset = NewsDatasetLSTM(train_texts, train_labels, mod, max_len=max_len)\n",
    "val_dataset = NewsDatasetLSTM(val_texts, val_labels, mod, max_len=max_len)\n",
    "test_dataset = NewsDatasetLSTM(test_texts, test_labels, mod, max_len=max_len)\n",
    "\n",
    "# Create DataLoaders\n",
    "batch_size = 64\n",
    "train_loader = DataLoader(train_dataset, batch_size=batch_size, shuffle=True,drop_last=True)\n",
    "val_loader = DataLoader(val_dataset, batch_size=batch_size,drop_last=True)\n",
    "test_loader = DataLoader(test_dataset, batch_size=batch_size)"
   ]
  },
  {
   "cell_type": "code",
   "execution_count": 7,
   "metadata": {},
   "outputs": [
    {
     "name": "stdout",
     "output_type": "stream",
     "text": [
      "\n",
      "Training Model 1 (LSTM with Attention)\n"
     ]
    },
    {
     "name": "stderr",
     "output_type": "stream",
     "text": [
      "Epoch 1/10 Training: 100%|\u001b[32m██████████\u001b[0m| 580/580 [02:21<00:00,  4.11it/s, loss=0.34] \n",
      "Evaluating: 100%|\u001b[34m██████████\u001b[0m| 193/193 [00:27<00:00,  7.01it/s]\n"
     ]
    },
    {
     "name": "stdout",
     "output_type": "stream",
     "text": [
      "Best checkpoint saved at checkpoints\\LSTMWithAttention_best.pt\n",
      "Epoch 1/10\n",
      " Train Loss: 0.5438\n",
      " Val Loss: 0.3752\n",
      " Val Accuracy: 0.8552\n",
      " Val F1 Score: 0.8395\n",
      " Precision: 0.8182\n",
      " Recall: 0.8619\n",
      " Val AUC-ROC: 0.9316\n",
      "\n"
     ]
    },
    {
     "name": "stderr",
     "output_type": "stream",
     "text": [
      "Epoch 2/10 Training: 100%|\u001b[32m██████████\u001b[0m| 580/580 [02:13<00:00,  4.34it/s, loss=0.332]\n",
      "Evaluating: 100%|\u001b[34m██████████\u001b[0m| 193/193 [00:28<00:00,  6.71it/s]\n"
     ]
    },
    {
     "name": "stdout",
     "output_type": "stream",
     "text": [
      "Best checkpoint saved at checkpoints\\LSTMWithAttention_best.pt\n",
      "Epoch 2/10\n",
      " Train Loss: 0.3430\n",
      " Val Loss: 0.2411\n",
      " Val Accuracy: 0.9162\n",
      " Val F1 Score: 0.9062\n",
      " Precision: 0.8917\n",
      " Recall: 0.9211\n",
      " Val AUC-ROC: 0.9724\n",
      "\n"
     ]
    },
    {
     "name": "stderr",
     "output_type": "stream",
     "text": [
      "Epoch 3/10 Training: 100%|\u001b[32m██████████\u001b[0m| 580/580 [02:20<00:00,  4.13it/s, loss=0.159] \n",
      "Evaluating: 100%|\u001b[34m██████████\u001b[0m| 193/193 [00:28<00:00,  6.83it/s]\n"
     ]
    },
    {
     "name": "stdout",
     "output_type": "stream",
     "text": [
      "Best checkpoint saved at checkpoints\\LSTMWithAttention_best.pt\n",
      "Epoch 3/10\n",
      " Train Loss: 0.2548\n",
      " Val Loss: 0.2066\n",
      " Val Accuracy: 0.9318\n",
      " Val F1 Score: 0.9231\n",
      " Precision: 0.9141\n",
      " Recall: 0.9322\n",
      " Val AUC-ROC: 0.9802\n",
      "\n"
     ]
    },
    {
     "name": "stderr",
     "output_type": "stream",
     "text": [
      "Epoch 4/10 Training: 100%|\u001b[32m██████████\u001b[0m| 580/580 [02:20<00:00,  4.12it/s, loss=0.226] \n",
      "Evaluating: 100%|\u001b[34m██████████\u001b[0m| 193/193 [00:28<00:00,  6.80it/s]\n"
     ]
    },
    {
     "name": "stdout",
     "output_type": "stream",
     "text": [
      "Best checkpoint saved at checkpoints\\LSTMWithAttention_best.pt\n",
      "Epoch 4/10\n",
      " Train Loss: 0.2229\n",
      " Val Loss: 0.1876\n",
      " Val Accuracy: 0.9383\n",
      " Val F1 Score: 0.9311\n",
      " Precision: 0.9136\n",
      " Recall: 0.9493\n",
      " Val AUC-ROC: 0.9830\n",
      "\n"
     ]
    },
    {
     "name": "stderr",
     "output_type": "stream",
     "text": [
      "Epoch 5/10 Training: 100%|\u001b[32m██████████\u001b[0m| 580/580 [02:20<00:00,  4.14it/s, loss=0.126] \n",
      "Evaluating: 100%|\u001b[34m██████████\u001b[0m| 193/193 [00:28<00:00,  6.73it/s]\n"
     ]
    },
    {
     "name": "stdout",
     "output_type": "stream",
     "text": [
      "Best checkpoint saved at checkpoints\\LSTMWithAttention_best.pt\n",
      "Epoch 5/10\n",
      " Train Loss: 0.2034\n",
      " Val Loss: 0.1727\n",
      " Val Accuracy: 0.9428\n",
      " Val F1 Score: 0.9363\n",
      " Precision: 0.9158\n",
      " Recall: 0.9578\n",
      " Val AUC-ROC: 0.9853\n",
      "\n"
     ]
    },
    {
     "name": "stderr",
     "output_type": "stream",
     "text": [
      "Epoch 6/10 Training: 100%|\u001b[32m██████████\u001b[0m| 580/580 [02:22<00:00,  4.07it/s, loss=0.192] \n",
      "Evaluating: 100%|\u001b[34m██████████\u001b[0m| 193/193 [00:30<00:00,  6.33it/s]\n"
     ]
    },
    {
     "name": "stdout",
     "output_type": "stream",
     "text": [
      "Best checkpoint saved at checkpoints\\LSTMWithAttention_best.pt\n",
      "Epoch 6/10\n",
      " Train Loss: 0.1898\n",
      " Val Loss: 0.1602\n",
      " Val Accuracy: 0.9470\n",
      " Val F1 Score: 0.9409\n",
      " Precision: 0.9209\n",
      " Recall: 0.9618\n",
      " Val AUC-ROC: 0.9870\n",
      "\n"
     ]
    },
    {
     "name": "stderr",
     "output_type": "stream",
     "text": [
      "Epoch 7/10 Training: 100%|\u001b[32m██████████\u001b[0m| 580/580 [02:21<00:00,  4.10it/s, loss=0.113] \n",
      "Evaluating: 100%|\u001b[34m██████████\u001b[0m| 193/193 [00:28<00:00,  6.82it/s]\n"
     ]
    },
    {
     "name": "stdout",
     "output_type": "stream",
     "text": [
      "Best checkpoint saved at checkpoints\\LSTMWithAttention_best.pt\n",
      "Epoch 7/10\n",
      " Train Loss: 0.1748\n",
      " Val Loss: 0.1585\n",
      " Val Accuracy: 0.9504\n",
      " Val F1 Score: 0.9442\n",
      " Precision: 0.9327\n",
      " Recall: 0.9559\n",
      " Val AUC-ROC: 0.9879\n",
      "\n"
     ]
    },
    {
     "name": "stderr",
     "output_type": "stream",
     "text": [
      "Epoch 8/10 Training: 100%|\u001b[32m██████████\u001b[0m| 580/580 [02:25<00:00,  3.98it/s, loss=0.273] \n",
      "Evaluating: 100%|\u001b[34m██████████\u001b[0m| 193/193 [00:28<00:00,  6.78it/s]\n"
     ]
    },
    {
     "name": "stdout",
     "output_type": "stream",
     "text": [
      "Best checkpoint saved at checkpoints\\LSTMWithAttention_best.pt\n",
      "Epoch 8/10\n",
      " Train Loss: 0.1623\n",
      " Val Loss: 0.1511\n",
      " Val Accuracy: 0.9509\n",
      " Val F1 Score: 0.9454\n",
      " Precision: 0.9250\n",
      " Recall: 0.9666\n",
      " Val AUC-ROC: 0.9883\n",
      "\n"
     ]
    },
    {
     "name": "stderr",
     "output_type": "stream",
     "text": [
      "Epoch 9/10 Training: 100%|\u001b[32m██████████\u001b[0m| 580/580 [02:27<00:00,  3.94it/s, loss=0.172] \n",
      "Evaluating: 100%|\u001b[34m██████████\u001b[0m| 193/193 [00:27<00:00,  6.98it/s]\n"
     ]
    },
    {
     "name": "stdout",
     "output_type": "stream",
     "text": [
      "Best checkpoint saved at checkpoints\\LSTMWithAttention_best.pt\n",
      "Epoch 9/10\n",
      " Train Loss: 0.1556\n",
      " Val Loss: 0.1431\n",
      " Val Accuracy: 0.9541\n",
      " Val F1 Score: 0.9485\n",
      " Precision: 0.9356\n",
      " Recall: 0.9617\n",
      " Val AUC-ROC: 0.9898\n",
      "\n"
     ]
    },
    {
     "name": "stderr",
     "output_type": "stream",
     "text": [
      "Epoch 10/10 Training: 100%|\u001b[32m██████████\u001b[0m| 580/580 [02:29<00:00,  3.88it/s, loss=0.116] \n",
      "Evaluating: 100%|\u001b[34m██████████\u001b[0m| 193/193 [00:27<00:00,  6.97it/s]\n"
     ]
    },
    {
     "name": "stdout",
     "output_type": "stream",
     "text": [
      "Best checkpoint saved at checkpoints\\LSTMWithAttention_best.pt\n",
      "Epoch 10/10\n",
      " Train Loss: 0.1436\n",
      " Val Loss: 0.1410\n",
      " Val Accuracy: 0.9564\n",
      " Val F1 Score: 0.9507\n",
      " Precision: 0.9455\n",
      " Recall: 0.9559\n",
      " Val AUC-ROC: 0.9908\n",
      "\n",
      "\n",
      "Saving final model state...\n",
      "Final checkpoint saved at checkpoints\\LSTMWithAttention_final.pt\n",
      "Final model saved at: checkpoints\\LSTMWithAttention_final.pt\n",
      "\n",
      "Testing with best model checkpoint...\n",
      "Checkpoint loaded from checkpoints\\LSTMWithAttention_best.pt\n",
      "Resuming from epoch 10\n"
     ]
    },
    {
     "name": "stderr",
     "output_type": "stream",
     "text": [
      "Evaluating: 100%|\u001b[34m██████████\u001b[0m| 194/194 [00:28<00:00,  6.86it/s]\n"
     ]
    },
    {
     "name": "stdout",
     "output_type": "stream",
     "text": [
      "\n",
      "Test Results:\n",
      "Loss: 0.1500\n",
      "Accuracy: 0.9514\n",
      "F1 Score: 0.9450\n",
      "Precision: 0.9393\n",
      "Recall: 0.9507\n",
      "ROC AUC: 0.9898\n",
      "\n",
      "\n",
      "Training Model 2 (LSTM without Attention)\n"
     ]
    },
    {
     "name": "stderr",
     "output_type": "stream",
     "text": [
      "Epoch 1/10 Training: 100%|\u001b[32m██████████\u001b[0m| 580/580 [02:16<00:00,  4.24it/s, loss=0.75] \n",
      "Evaluating: 100%|\u001b[34m██████████\u001b[0m| 193/193 [00:27<00:00,  6.96it/s]\n"
     ]
    },
    {
     "name": "stdout",
     "output_type": "stream",
     "text": [
      "Best checkpoint saved at checkpoints\\LSTMWithoutAttention_best.pt\n",
      "Epoch 1/10\n",
      " Train Loss: 0.7793\n",
      " Val Loss: 0.7713\n",
      " Val Accuracy: 0.4736\n",
      " Val F1 Score: 0.6167\n",
      " Precision: 0.4533\n",
      " Recall: 0.9642\n",
      " Val AUC-ROC: 0.5308\n",
      "\n"
     ]
    },
    {
     "name": "stderr",
     "output_type": "stream",
     "text": [
      "Epoch 2/10 Training: 100%|\u001b[32m██████████\u001b[0m| 580/580 [02:10<00:00,  4.45it/s, loss=0.757]\n",
      "Evaluating: 100%|\u001b[34m██████████\u001b[0m| 193/193 [00:27<00:00,  6.98it/s]\n"
     ]
    },
    {
     "name": "stdout",
     "output_type": "stream",
     "text": [
      "Best checkpoint saved at checkpoints\\LSTMWithoutAttention_best.pt\n",
      "Epoch 2/10\n",
      " Train Loss: 0.7657\n",
      " Val Loss: 0.7656\n",
      " Val Accuracy: 0.4791\n",
      " Val F1 Score: 0.6204\n",
      " Precision: 0.4562\n",
      " Recall: 0.9692\n",
      " Val AUC-ROC: 0.6987\n",
      "\n"
     ]
    },
    {
     "name": "stderr",
     "output_type": "stream",
     "text": [
      "Epoch 3/10 Training: 100%|\u001b[32m██████████\u001b[0m| 580/580 [02:11<00:00,  4.42it/s, loss=0.615]\n",
      "Evaluating: 100%|\u001b[34m██████████\u001b[0m| 193/193 [00:27<00:00,  7.07it/s]\n"
     ]
    },
    {
     "name": "stdout",
     "output_type": "stream",
     "text": [
      "Best checkpoint saved at checkpoints\\LSTMWithoutAttention_best.pt\n",
      "Epoch 3/10\n",
      " Train Loss: 0.7304\n",
      " Val Loss: 0.5827\n",
      " Val Accuracy: 0.7861\n",
      " Val F1 Score: 0.7453\n",
      " Precision: 0.7812\n",
      " Recall: 0.7126\n",
      " Val AUC-ROC: 0.8397\n",
      "\n"
     ]
    },
    {
     "name": "stderr",
     "output_type": "stream",
     "text": [
      "Epoch 4/10 Training: 100%|\u001b[32m██████████\u001b[0m| 580/580 [02:11<00:00,  4.41it/s, loss=0.428]\n",
      "Evaluating: 100%|\u001b[34m██████████\u001b[0m| 193/193 [00:27<00:00,  6.90it/s]\n"
     ]
    },
    {
     "name": "stdout",
     "output_type": "stream",
     "text": [
      "Best checkpoint saved at checkpoints\\LSTMWithoutAttention_best.pt\n",
      "Epoch 4/10\n",
      " Train Loss: 0.5651\n",
      " Val Loss: 0.5282\n",
      " Val Accuracy: 0.8238\n",
      " Val F1 Score: 0.7978\n",
      " Precision: 0.8040\n",
      " Recall: 0.7917\n",
      " Val AUC-ROC: 0.8587\n",
      "\n"
     ]
    },
    {
     "name": "stderr",
     "output_type": "stream",
     "text": [
      "Epoch 5/10 Training: 100%|\u001b[32m██████████\u001b[0m| 580/580 [02:15<00:00,  4.28it/s, loss=0.473]\n",
      "Evaluating: 100%|\u001b[34m██████████\u001b[0m| 193/193 [00:27<00:00,  7.02it/s]\n"
     ]
    },
    {
     "name": "stdout",
     "output_type": "stream",
     "text": [
      "Performance did not improve: Current metric: 0.5507, best metric: 0.5282 Counter: 1/4\n",
      "Epoch 5/10\n",
      " Train Loss: 0.5419\n",
      " Val Loss: 0.5507\n",
      " Val Accuracy: 0.8063\n",
      " Val F1 Score: 0.7576\n",
      " Precision: 0.8412\n",
      " Recall: 0.6892\n",
      " Val AUC-ROC: 0.8572\n",
      "\n"
     ]
    },
    {
     "name": "stderr",
     "output_type": "stream",
     "text": [
      "Epoch 6/10 Training: 100%|\u001b[32m██████████\u001b[0m| 580/580 [02:13<00:00,  4.35it/s, loss=0.59] \n",
      "Evaluating: 100%|\u001b[34m██████████\u001b[0m| 193/193 [00:27<00:00,  7.03it/s]\n"
     ]
    },
    {
     "name": "stdout",
     "output_type": "stream",
     "text": [
      "Performance did not improve: Current metric: 0.5457, best metric: 0.5282 Counter: 2/4\n",
      "Epoch 6/10\n",
      " Train Loss: 0.5284\n",
      " Val Loss: 0.5457\n",
      " Val Accuracy: 0.8085\n",
      " Val F1 Score: 0.7911\n",
      " Precision: 0.7592\n",
      " Recall: 0.8258\n",
      " Val AUC-ROC: 0.8417\n",
      "\n"
     ]
    },
    {
     "name": "stderr",
     "output_type": "stream",
     "text": [
      "Epoch 7/10 Training: 100%|\u001b[32m██████████\u001b[0m| 580/580 [02:12<00:00,  4.38it/s, loss=0.655]\n",
      "Evaluating: 100%|\u001b[34m██████████\u001b[0m| 193/193 [00:28<00:00,  6.85it/s]\n"
     ]
    },
    {
     "name": "stdout",
     "output_type": "stream",
     "text": [
      "Performance did not improve: Current metric: 0.6116, best metric: 0.5282 Counter: 3/4\n",
      "Epoch 7/10\n",
      " Train Loss: 0.5328\n",
      " Val Loss: 0.6116\n",
      " Val Accuracy: 0.7512\n",
      " Val F1 Score: 0.7634\n",
      " Precision: 0.6555\n",
      " Recall: 0.9139\n",
      " Val AUC-ROC: 0.7985\n",
      "\n"
     ]
    },
    {
     "name": "stderr",
     "output_type": "stream",
     "text": [
      "Epoch 8/10 Training: 100%|\u001b[32m██████████\u001b[0m| 580/580 [02:14<00:00,  4.32it/s, loss=0.711]\n",
      "Evaluating: 100%|\u001b[34m██████████\u001b[0m| 193/193 [00:28<00:00,  6.75it/s]\n"
     ]
    },
    {
     "name": "stdout",
     "output_type": "stream",
     "text": [
      "Best checkpoint saved at checkpoints\\LSTMWithoutAttention_best.pt\n",
      "Epoch 8/10\n",
      " Train Loss: 0.5276\n",
      " Val Loss: 0.5126\n",
      " Val Accuracy: 0.8316\n",
      " Val F1 Score: 0.8030\n",
      " Precision: 0.8260\n",
      " Recall: 0.7812\n",
      " Val AUC-ROC: 0.8721\n",
      "\n"
     ]
    },
    {
     "name": "stderr",
     "output_type": "stream",
     "text": [
      "Epoch 9/10 Training: 100%|\u001b[32m██████████\u001b[0m| 580/580 [02:16<00:00,  4.24it/s, loss=0.665]\n",
      "Evaluating: 100%|\u001b[34m██████████\u001b[0m| 193/193 [00:27<00:00,  6.96it/s]\n"
     ]
    },
    {
     "name": "stdout",
     "output_type": "stream",
     "text": [
      "Performance did not improve: Current metric: 0.5286, best metric: 0.5126 Counter: 1/4\n",
      "Epoch 9/10\n",
      " Train Loss: 0.5105\n",
      " Val Loss: 0.5286\n",
      " Val Accuracy: 0.8205\n",
      " Val F1 Score: 0.7940\n",
      " Precision: 0.8006\n",
      " Recall: 0.7875\n",
      " Val AUC-ROC: 0.8618\n",
      "\n"
     ]
    },
    {
     "name": "stderr",
     "output_type": "stream",
     "text": [
      "Epoch 10/10 Training: 100%|\u001b[32m██████████\u001b[0m| 580/580 [02:13<00:00,  4.35it/s, loss=0.594]\n",
      "Evaluating: 100%|\u001b[34m██████████\u001b[0m| 193/193 [00:27<00:00,  6.96it/s]\n"
     ]
    },
    {
     "name": "stdout",
     "output_type": "stream",
     "text": [
      "Performance did not improve: Current metric: 0.5372, best metric: 0.5126 Counter: 2/4\n",
      "Epoch 10/10\n",
      " Train Loss: 0.5204\n",
      " Val Loss: 0.5372\n",
      " Val Accuracy: 0.8226\n",
      " Val F1 Score: 0.7953\n",
      " Precision: 0.8065\n",
      " Recall: 0.7843\n",
      " Val AUC-ROC: 0.8595\n",
      "\n",
      "\n",
      "Saving final model state...\n",
      "Final checkpoint saved at checkpoints\\LSTMWithoutAttention_final.pt\n",
      "Final model saved at: checkpoints\\LSTMWithoutAttention_final.pt\n",
      "\n",
      "Testing with best model checkpoint...\n",
      "Checkpoint loaded from checkpoints\\LSTMWithoutAttention_best.pt\n",
      "Resuming from epoch 8\n"
     ]
    },
    {
     "name": "stderr",
     "output_type": "stream",
     "text": [
      "Evaluating: 100%|\u001b[34m██████████\u001b[0m| 194/194 [00:27<00:00,  6.99it/s]\n"
     ]
    },
    {
     "name": "stdout",
     "output_type": "stream",
     "text": [
      "\n",
      "Test Results:\n",
      "Loss: 0.5215\n",
      "Accuracy: 0.8249\n",
      "F1 Score: 0.7952\n",
      "Precision: 0.8170\n",
      "Recall: 0.7745\n",
      "ROC AUC: 0.8679\n",
      "\n",
      "Model training and testing complete.\n"
     ]
    }
   ],
   "source": [
    "num_negatives = len(df[df['label'] == 0])\n",
    "num_positives = len(df[df['label'] == 1])\n",
    "class_counts = [num_negatives, num_positives]\n",
    "\n",
    "results = train_evaluate_and_test_models(class_counts,train_loader, val_loader, test_loader, epochs=10)"
   ]
  }
 ],
 "metadata": {
  "kernelspec": {
   "display_name": "Python 3",
   "language": "python",
   "name": "python3"
  },
  "language_info": {
   "codemirror_mode": {
    "name": "ipython",
    "version": 3
   },
   "file_extension": ".py",
   "mimetype": "text/x-python",
   "name": "python",
   "nbconvert_exporter": "python",
   "pygments_lexer": "ipython3",
   "version": "3.12.2"
  }
 },
 "nbformat": 4,
 "nbformat_minor": 2
}
